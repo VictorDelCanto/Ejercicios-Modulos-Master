{
 "cells": [
  {
   "cell_type": "markdown",
   "metadata": {},
   "source": [
    "# <div style=\"font-size: 200%; font-weight: bold; color: maroon;\">Machine Learning en Python: ejercicios de evaluación</div>\n",
    "<!-- Paulo Villegas, v. 1.0, 2017 -->\n",
    "\n",
    "<div class=\"alert alert-warning\" role=\"alert\" style=\"margin-top: 24pt; margin-bottom: 0pt;\">Por favor, escriba en la siguiente celda su nombre y apellidos</div>"
   ]
  },
  {
   "cell_type": "markdown",
   "metadata": {},
   "source": [
    "Nombre: Victor M. del Canto Godino "
   ]
  },
  {
   "cell_type": "markdown",
   "metadata": {},
   "source": [
    "# Instrucciones\n",
    "\n",
    "La prueba consta de 4 preguntas, cada una con el mismo valor.\n",
    "\n",
    "1. Cargue los datos indicados en la sección de preparación\n",
    "2. Sobre esos datos, realice las operaciones indicadas en las secciones 1, 2 y 3. Introduzca el código necesario en la celda mencionada (si lo prefiere, puede repartirlo en varias celdas).\n",
    "3. Conteste a las preguntas de la sección 4 (son preguntas teóricas, no necesitan dataset ni código Python)\n",
    "4. Una vez terminados los ejercicios, descargue el _notebook_ en formato `.ipynb` (menú _File_ -> _Download as_ -> _Notebook_ ) y entréguelo para ser evaluado. Entregue solo el _notebook_, no adjunte más ficheros (es decir, no añada el fichero `.csv` con los datos).\n",
    "\n",
    "# Preparación\n",
    "\n",
    "Ejecute las siguiente celdas para cargar el DataFrame; contiene datos de vuelos a Nueva York durante 2014. Es una muestra más reducida del mismo dataset usado en [el notebook de ejercicios de regresión](http://localhost:8008/notebooks/UNED/W2/4.3p%20Regresi%C3%B3n%20-%20ejercicios.ipynb). "
   ]
  },
  {
   "cell_type": "code",
   "execution_count": 1,
   "metadata": {},
   "outputs": [],
   "source": [
    "from __future__ import print_function\n",
    "import numpy as np\n",
    "import pandas as pd"
   ]
  },
  {
   "cell_type": "code",
   "execution_count": 2,
   "metadata": {},
   "outputs": [],
   "source": [
    "flights = pd.read_csv( 'DATOS/flights14_sample.csv' )"
   ]
  },
  {
   "cell_type": "markdown",
   "metadata": {},
   "source": [
    "La siguiente tabla muestra las columnas que tiene el DataFrame, y qué datos contienen:"
   ]
  },
  {
   "cell_type": "markdown",
   "metadata": {},
   "source": [
    "|columna|contenido\n",
    "| :- | :------------- |\n",
    "|`year`|fecha del vuelo (año)\n",
    "|`month`|fecha del vuelo (mes)\n",
    "|`day`|fecha del vuelo (día)\n",
    "|`dep_time`|hora real de salida\n",
    "|`dep_delay`|retraso en salida (minutos)\n",
    "|`arr_time`|hora de llegada\n",
    "|`arr_delay`|retraso en llegada (minutos)\n",
    "|`cancelled`|vuelo cancelado\n",
    "|`carrier`|compañía\n",
    "|`tailnum`|número de avión\n",
    "|`flight`|número de vuelo\n",
    "|`origin`|aeropuerto de origen\n",
    "|`dest`|aeropuerto de destino\n",
    "|`air_time`|tiempo de vuelo (minutos)\n",
    "|`distance`|distancia recorrida (millas)\n",
    "|`hour`|hora prevista de salida\n",
    "|`min`|minuto previsto de salida\n"
   ]
  },
  {
   "cell_type": "markdown",
   "metadata": {},
   "source": [
    "# 1. Manipulación de datos"
   ]
  },
  {
   "cell_type": "markdown",
   "metadata": {},
   "source": [
    "## 1.1 Retraso importante\n",
    "\n",
    "Vamos a definir \"_retraso importante_\" como un retraso en la llegada de más de una hora.\n",
    "\n",
    "Añada una columna \"`retraso_importante`\" al DataFrame. Debe tener un valor booleano: `True` si el vuelo ha tenido más de una hora de retraso en la llegada y `False` en caso contrario\n",
    "\n",
    "<div style='font-style: italic; color: #109010; margin-top: 1ex;'>Indicación: en Python los operadores de comparación (mayor, menor, etc) producen valores booleanos</div>\n",
    "<div class=\"alert alert-warning\" role=\"alert\" style=\"margin-top: 24pt; margin-bottom: 0pt;\">Conteste en la siguiente celda</div>"
   ]
  },
  {
   "cell_type": "code",
   "execution_count": 3,
   "metadata": {},
   "outputs": [
    {
     "data": {
      "text/html": [
       "<div>\n",
       "<style scoped>\n",
       "    .dataframe tbody tr th:only-of-type {\n",
       "        vertical-align: middle;\n",
       "    }\n",
       "\n",
       "    .dataframe tbody tr th {\n",
       "        vertical-align: top;\n",
       "    }\n",
       "\n",
       "    .dataframe thead th {\n",
       "        text-align: right;\n",
       "    }\n",
       "</style>\n",
       "<table border=\"1\" class=\"dataframe\">\n",
       "  <thead>\n",
       "    <tr style=\"text-align: right;\">\n",
       "      <th></th>\n",
       "      <th>Unnamed: 0</th>\n",
       "      <th>year</th>\n",
       "      <th>month</th>\n",
       "      <th>day</th>\n",
       "      <th>dep_time</th>\n",
       "      <th>dep_delay</th>\n",
       "      <th>arr_time</th>\n",
       "      <th>arr_delay</th>\n",
       "      <th>cancelled</th>\n",
       "      <th>carrier</th>\n",
       "      <th>tailnum</th>\n",
       "      <th>flight</th>\n",
       "      <th>origin</th>\n",
       "      <th>dest</th>\n",
       "      <th>air_time</th>\n",
       "      <th>distance</th>\n",
       "      <th>hour</th>\n",
       "      <th>min</th>\n",
       "      <th>retraso_importante</th>\n",
       "    </tr>\n",
       "  </thead>\n",
       "  <tbody>\n",
       "    <tr>\n",
       "      <th>0</th>\n",
       "      <td>238667</td>\n",
       "      <td>2014</td>\n",
       "      <td>10</td>\n",
       "      <td>14</td>\n",
       "      <td>1029</td>\n",
       "      <td>-10</td>\n",
       "      <td>1232</td>\n",
       "      <td>-36</td>\n",
       "      <td>0</td>\n",
       "      <td>UA</td>\n",
       "      <td>N474UA</td>\n",
       "      <td>395</td>\n",
       "      <td>EWR</td>\n",
       "      <td>LAS</td>\n",
       "      <td>278</td>\n",
       "      <td>2227</td>\n",
       "      <td>10</td>\n",
       "      <td>29</td>\n",
       "      <td>False</td>\n",
       "    </tr>\n",
       "    <tr>\n",
       "      <th>1</th>\n",
       "      <td>143280</td>\n",
       "      <td>2014</td>\n",
       "      <td>6</td>\n",
       "      <td>26</td>\n",
       "      <td>2044</td>\n",
       "      <td>-6</td>\n",
       "      <td>2342</td>\n",
       "      <td>-17</td>\n",
       "      <td>0</td>\n",
       "      <td>B6</td>\n",
       "      <td>N639JB</td>\n",
       "      <td>1205</td>\n",
       "      <td>JFK</td>\n",
       "      <td>PDX</td>\n",
       "      <td>315</td>\n",
       "      <td>2454</td>\n",
       "      <td>20</td>\n",
       "      <td>44</td>\n",
       "      <td>False</td>\n",
       "    </tr>\n",
       "    <tr>\n",
       "      <th>2</th>\n",
       "      <td>107838</td>\n",
       "      <td>2014</td>\n",
       "      <td>5</td>\n",
       "      <td>15</td>\n",
       "      <td>1456</td>\n",
       "      <td>1</td>\n",
       "      <td>1654</td>\n",
       "      <td>24</td>\n",
       "      <td>0</td>\n",
       "      <td>MQ</td>\n",
       "      <td>N505MQ</td>\n",
       "      <td>3295</td>\n",
       "      <td>JFK</td>\n",
       "      <td>RDU</td>\n",
       "      <td>68</td>\n",
       "      <td>427</td>\n",
       "      <td>14</td>\n",
       "      <td>56</td>\n",
       "      <td>False</td>\n",
       "    </tr>\n",
       "    <tr>\n",
       "      <th>3</th>\n",
       "      <td>148874</td>\n",
       "      <td>2014</td>\n",
       "      <td>7</td>\n",
       "      <td>2</td>\n",
       "      <td>803</td>\n",
       "      <td>-2</td>\n",
       "      <td>1047</td>\n",
       "      <td>-15</td>\n",
       "      <td>0</td>\n",
       "      <td>DL</td>\n",
       "      <td>N341NB</td>\n",
       "      <td>2395</td>\n",
       "      <td>LGA</td>\n",
       "      <td>PBI</td>\n",
       "      <td>139</td>\n",
       "      <td>1035</td>\n",
       "      <td>8</td>\n",
       "      <td>3</td>\n",
       "      <td>False</td>\n",
       "    </tr>\n",
       "    <tr>\n",
       "      <th>4</th>\n",
       "      <td>239608</td>\n",
       "      <td>2014</td>\n",
       "      <td>10</td>\n",
       "      <td>15</td>\n",
       "      <td>854</td>\n",
       "      <td>-6</td>\n",
       "      <td>1204</td>\n",
       "      <td>0</td>\n",
       "      <td>0</td>\n",
       "      <td>UA</td>\n",
       "      <td>N18112</td>\n",
       "      <td>130</td>\n",
       "      <td>EWR</td>\n",
       "      <td>LAX</td>\n",
       "      <td>316</td>\n",
       "      <td>2454</td>\n",
       "      <td>8</td>\n",
       "      <td>54</td>\n",
       "      <td>False</td>\n",
       "    </tr>\n",
       "  </tbody>\n",
       "</table>\n",
       "</div>"
      ],
      "text/plain": [
       "   Unnamed: 0  year  month  day  dep_time  dep_delay  arr_time  arr_delay  \\\n",
       "0      238667  2014     10   14      1029        -10      1232        -36   \n",
       "1      143280  2014      6   26      2044         -6      2342        -17   \n",
       "2      107838  2014      5   15      1456          1      1654         24   \n",
       "3      148874  2014      7    2       803         -2      1047        -15   \n",
       "4      239608  2014     10   15       854         -6      1204          0   \n",
       "\n",
       "   cancelled carrier tailnum  flight origin dest  air_time  distance  hour  \\\n",
       "0          0      UA  N474UA     395    EWR  LAS       278      2227    10   \n",
       "1          0      B6  N639JB    1205    JFK  PDX       315      2454    20   \n",
       "2          0      MQ  N505MQ    3295    JFK  RDU        68       427    14   \n",
       "3          0      DL  N341NB    2395    LGA  PBI       139      1035     8   \n",
       "4          0      UA  N18112     130    EWR  LAX       316      2454     8   \n",
       "\n",
       "   min  retraso_importante  \n",
       "0   29               False  \n",
       "1   44               False  \n",
       "2   56               False  \n",
       "3    3               False  \n",
       "4   54               False  "
      ]
     },
     "execution_count": 3,
     "metadata": {},
     "output_type": "execute_result"
    }
   ],
   "source": [
    "flights=flights.assign(retraso_importante= lambda x:x.arr_delay>60)\n",
    "flights.head()"
   ]
  },
  {
   "cell_type": "markdown",
   "metadata": {},
   "source": [
    "## 1.2 Retrasos por compañía\n",
    "\n",
    "* Cuente cuántos vuelos con \"retraso importante\" ha tenido cada compañía. \n",
    "\n",
    "* Ordene el resultado, obteniendo la lista de compañías ordenadas por su número de retrasos importantes (de forma que la que más ha tenido esté la primera)\n",
    "\n",
    "<div style='font-style: italic; color: #109010; margin-top: 1ex;'>Indicación: utilice el [agrupamiento + agregación](http://pandas.pydata.org/pandas-docs/stable/groupby.html#groupby-aggregate) para DataFrames. En Python los valores booleanos se pueden sumar. En la suma `True` cuenta como 1 y `False` como 0.</div>\n",
    "\n",
    "<div class=\"alert alert-warning\" role=\"alert\" style=\"margin-top: 24pt; margin-bottom: 0pt;\">Conteste en la siguiente celda</div>\n"
   ]
  },
  {
   "cell_type": "code",
   "execution_count": 4,
   "metadata": {},
   "outputs": [
    {
     "data": {
      "text/plain": [
       "carrier\n",
       "EV    1528.0\n",
       "UA    1224.0\n",
       "B6    1206.0\n",
       "DL     969.0\n",
       "AA     596.0\n",
       "MQ     462.0\n",
       "WN     357.0\n",
       "US     247.0\n",
       "VX     104.0\n",
       "FL      43.0\n",
       "F9      25.0\n",
       "AS      14.0\n",
       "OO       6.0\n",
       "HA       6.0\n",
       "Name: retraso_importante, dtype: float64"
      ]
     },
     "execution_count": 4,
     "metadata": {},
     "output_type": "execute_result"
    }
   ],
   "source": [
    "compañias=flights.groupby('carrier')\n",
    "compañias.retraso_importante.agg(np.sum).sort_values(ascending=False)"
   ]
  },
  {
   "cell_type": "markdown",
   "metadata": {},
   "source": [
    "# 2. Representación gráfica\n",
    "\n",
    "Represente en dos gráficas, cada una con una nube de puntos (_scatter_):\n",
    "* El retraso en la llegada (minutos) como función de la distancia recorrida\n",
    "* El retraso en la llegada (minutos) como función de la hora *real* de salida\n",
    "\n",
    "Si puede, coloque las dos gráficas una a la izquierda de la otra. Si no lo consigue, cree cada gráfica en una celda distinta del _notebook_\n",
    "\n",
    "<div style='font-style: italic; color: #109010; margin-top: 1ex;'>Indicación: use el método [`plot`](http://pandas.pydata.org/pandas-docs/stable/generated/pandas.DataFrame.plot.html) de Pandas sobre el DataFrame</div>\n",
    "\n",
    "<div class=\"alert alert-warning\" role=\"alert\" style=\"margin-top: 24pt; margin-bottom: 0pt;\">Conteste en la siguiente celda</div>"
   ]
  },
  {
   "cell_type": "code",
   "execution_count": 5,
   "metadata": {},
   "outputs": [
    {
     "data": {
      "text/plain": [
       "<matplotlib.axes._subplots.AxesSubplot at 0x1d94fbe2fd0>"
      ]
     },
     "execution_count": 5,
     "metadata": {},
     "output_type": "execute_result"
    },
    {
     "data": {
      "image/png": "[encoded data removed]",
      "text/plain": [
       "<matplotlib.figure.Figure at 0x1d94e9b65c0>"
      ]
     },
     "metadata": {},
     "output_type": "display_data"
    }
   ],
   "source": [
    "import matplotlib.pyplot as plt\n",
    "%matplotlib inline\n",
    "import matplotlib \n",
    "matplotlib.style.use('ggplot')\n",
    "plt.rcParams['figure.figsize'] = (15, 8)\n",
    "\n",
    "fig, (ax,bx) = plt.subplots(nrows=1, ncols=2,sharey=True)\n",
    "\n",
    "flights.plot(x='distance',y='arr_delay',kind='scatter',ax=ax)\n",
    "flights.plot(x='dep_time',y='arr_delay',kind='scatter',ax=bx)"
   ]
  },
  {
   "cell_type": "markdown",
   "metadata": {},
   "source": [
    "\n",
    "# 3. Clasificación\n",
    "\n",
    "Vamos a entrenar un clasificador para que prediga si el vuelo tiene o no \"retraso importante\". Para ello:\n",
    "* Seleccione las columnas de _distancia recorrida_ y _hora real de salida_ como datos de entrada\n",
    "* Seleccione la columna creada de \"retraso importante\" como dato de salida\n",
    "* Separe los datos en conjunto de entrenamiento (75%) y conjunto de test (25%)\n",
    "* Entrene un clasificador `RandomForest` con 100 árboles, usando el conjunto de entrenamiento\n",
    "* Calcule la exactitud (`accuracy`) sobre el conjunto de test\n",
    "\n",
    "<div class=\"alert alert-warning\" role=\"alert\" style=\"margin-top: 24pt; margin-bottom: 0pt;\">Conteste en la siguiente celda</div>"
   ]
  },
  {
   "cell_type": "code",
   "execution_count": 6,
   "metadata": {},
   "outputs": [
    {
     "name": "stdout",
     "output_type": "stream",
     "text": [
      "Exactitud (accuracy test)  = 0.9145892147949662\n"
     ]
    }
   ],
   "source": [
    "from sklearn.model_selection import train_test_split\n",
    "from sklearn.ensemble import RandomForestClassifier\n",
    "from sklearn.metrics import accuracy_score\n",
    "from sklearn.utils import check_random_state\n",
    "\n",
    "rs=check_random_state(256)\n",
    "\n",
    "X=flights[['dep_time','distance']]\n",
    "Y=flights['retraso_importante']\n",
    "\n",
    "Xtrain,Xtest,Ytrain,Ytest=train_test_split(X,Y,train_size=0.75,test_size=0.25,random_state=rs)\n",
    "\n",
    "cl=RandomForestClassifier(n_estimators=100)\n",
    "cl.fit(Xtrain,Ytrain)\n",
    "\n",
    "Yp=cl.predict(Xtest)\n",
    "\n",
    "accuracy_test=accuracy_score(Ytest,Yp)\n",
    "\n",
    "print( \"Exactitud (accuracy test)  =\",accuracy_test )"
   ]
  },
  {
   "cell_type": "markdown",
   "metadata": {},
   "source": [
    "# 4. Preguntas teóricas\n",
    "\n",
    "Las siguientes preguntas son de contenido teórico, es decir, no precisan de realizar ningún tipo de código Python. Simplemente conteste a la pregunta en el recuadro marcado, razonando la respuesta\n",
    "\n",
    "## 4.1 Sobreentrenamiento\n",
    "\n",
    "Supongamos que tenemos un clasificador que usa un modelo con un nivel graduable de complejidad. Lo utilizamos para entrenar una clasificación con un dataset, y realizamos unos cuantos entrenamientos usando modelos con distinto grado de complejidad. Para evaluar medimos el error de clasificación tanto sobre el conjunto de entrenamiento como sobre el de test. El resultado es la siguiente gráfica que presenta los dos errores en función de la complejidad del modelo usado.\n",
    "\n",
    "<img src=\"IMG/ml-python-ejercicio.png\" style=\"width: 600px; padding: -100px;\"/>\n",
    "\n",
    "Pregunta: a la vista de la gráfica, ¿está nuestro clasificador sobreentrenando en algún momento? Explique su respuesta\n",
    "\n",
    "<div class=\"alert alert-warning\" role=\"alert\" style=\"margin-top: 24pt; margin-bottom: 0pt;\">Conteste en la siguiente celda</div>"
   ]
  },
  {
   "cell_type": "markdown",
   "metadata": {},
   "source": [
    "*Respuesta*:\n",
    "En mi opinion todavia no. Aunque el error de entrenamiento es cada vez menor y parece que el clasificador se ha adaptado muy bien a los datos de entrenamiento al aumentar la complejidad, el error de test ha disminuido tambien con el aumento de complejidad. Creo que visualmente podria apreciarse sobreentrenamiento cuando la pendiente de la curva del error de test dejara de ser negativa para acercarse a 0\n"
   ]
  },
  {
   "cell_type": "markdown",
   "metadata": {},
   "source": [
    "## 4.2 Tipo de aprendizaje \n",
    "\n",
    "Una empresa de turismo ha conseguido un dataset de estancias de familias en hoteles que contiene, para cada familia:\n",
    "* número de miembros\n",
    "* país de origen\n",
    "* edad de los padres\n",
    "* gasto total durante la estancia\n",
    "\n",
    "La empresa pretende, usando ese dataset, obtener un modelo que le permita predecir el gasto total de la familia a partir del número de miembros, país de origen y edad de los padres. ¿Qué tipo de aprendizaje lleva a cabo el modelo, de entre los vistos en la unidad 4.1? Explique su respuesta.\n",
    "\n",
    "<div class=\"alert alert-warning\" role=\"alert\" style=\"margin-top: 24pt; margin-bottom: 0pt;\">Conteste en la siguiente celda</div>"
   ]
  },
  {
   "cell_type": "markdown",
   "metadata": {},
   "source": [
    "*Respuesta:*\n",
    "En el dataset tenemos acceso a los datos objetivo por lo que podemos plantear un aprendizaje supervisado. Como no se pide categorizar sino inferir un valor cuantitativo no podemos elegir la clasificacion, sino la regresion"
   ]
  }
 ],
 "metadata": {
  "kernelspec": {
   "display_name": "Python 3",
   "language": "python",
   "name": "python3"
  },
  "language_info": {
   "codemirror_mode": {
    "name": "ipython",
    "version": 3
   },
   "file_extension": ".py",
   "mimetype": "text/x-python",
   "name": "python",
   "nbconvert_exporter": "python",
   "pygments_lexer": "ipython3",
   "version": "3.6.4"
  }
 },
 "nbformat": 4,
 "nbformat_minor": 1
}
